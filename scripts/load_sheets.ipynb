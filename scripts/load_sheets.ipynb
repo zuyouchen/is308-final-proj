{
 "cells": [
  {
   "cell_type": "code",
   "execution_count": 13,
   "metadata": {},
   "outputs": [],
   "source": [
    "import pandas as pd\n",
    "def fetch_summary_sheet(term):\n",
    "    df = pd.read_excel(f'https://www.dmi.illinois.edu/stuenr/ethsexres/ethsex{term}.xls', sheet_name='summary', header=4)\n",
    "    df = df.rename(columns={\n",
    "        'Unnamed: 0': 'Term/Year Code',\n",
    "        'Unnamed: 3': 'Student Level',\n",
    "        'Unnamed: 4': 'Total',\n",
    "        'Unknown': 'Unreported Gender',\n",
    "        'Unknown.1': 'Unreported Race'\n",
    "    })\n",
    "    # # Account for lack of \"All\" category pre-2010\n",
    "    # if \"All   African American\" not in df.columns.to_list():\n",
    "    #     df[\"All   African American\"] = df['African American']\n",
    "    # if \"All    Native American\" not in df.columns.to_list():\n",
    "    #     df[\"All   Native American\"] = df['Native American']\n",
    "    # if \"All Asian\" not in df.columns.to_list():\n",
    "    #     df[\"All Asian\"] = int(df['Asian American']) \n",
    "    df.to_csv(rf'../data/summary_{term}.csv', index=False)"
   ]
  },
  {
   "cell_type": "code",
   "execution_count": null,
   "metadata": {},
   "outputs": [],
   "source": [
    "from time import sleep\n",
    "# Data for FA/SP/SU17 -> FA/SP/SU22\n",
    "for i in range(17, 23):\n",
    "    fetch_summary_sheet(f'fa{i}')\n",
    "    fetch_summary_sheet(f'sp{i}')\n",
    "    fetch_summary_sheet(f'su{i}')\n",
    "    sleep(5)\n",
    "\n",
    "# Data for SP23 (Most Recent)\n",
    "fetch_summary_sheet('sp23')"
   ]
  },
  {
   "cell_type": "code",
   "execution_count": 14,
   "metadata": {},
   "outputs": [],
   "source": [
    "# Data Supplement 4/27/23\n",
    "from time import sleep\n",
    "# Data for FA/SP/SU 2005 -> FA/SP/SU 2016:\n",
    "for i in range(5, 17):\n",
    "    year = str(i).zfill(2)\n",
    "    fetch_summary_sheet(f'fa{year}')\n",
    "    fetch_summary_sheet(f'sp{year}')\n",
    "    fetch_summary_sheet(f'su{year}')\n",
    "    sleep(5)\n"
   ]
  },
  {
   "cell_type": "code",
   "execution_count": null,
   "metadata": {},
   "outputs": [],
   "source": []
  }
 ],
 "metadata": {
  "kernelspec": {
   "display_name": "Python 3",
   "language": "python",
   "name": "python3"
  },
  "language_info": {
   "codemirror_mode": {
    "name": "ipython",
    "version": 3
   },
   "file_extension": ".py",
   "mimetype": "text/x-python",
   "name": "python",
   "nbconvert_exporter": "python",
   "pygments_lexer": "ipython3",
   "version": "3.10.9"
  },
  "orig_nbformat": 4
 },
 "nbformat": 4,
 "nbformat_minor": 2
}
