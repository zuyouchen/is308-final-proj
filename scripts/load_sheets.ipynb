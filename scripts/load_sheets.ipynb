{
 "cells": [
  {
   "cell_type": "code",
   "execution_count": 1,
   "metadata": {},
   "outputs": [],
   "source": [
    "import pandas as pd\n",
    "def fetch_summary_sheet(term):\n",
    "    df = pd.read_excel(f'https://www.dmi.illinois.edu/stuenr/ethsexres/ethsex{term}.xls', sheet_name='summary', header=4)\n",
    "    df = df.rename(columns={\n",
    "        'Unnamed: 0': 'Term/Year Code',\n",
    "        'Unnamed: 3': 'Student Level',\n",
    "        'Unnamed: 4': 'Total',\n",
    "        'Unknown': 'Unreported Gender',\n",
    "        'Unknown.1': 'Unreported Race'\n",
    "    })\n",
    "    df.to_csv(rf'../data/summary_{term}.csv', index=False)"
   ]
  },
  {
   "cell_type": "code",
   "execution_count": 2,
   "metadata": {},
   "outputs": [],
   "source": [
    "from time import sleep\n",
    "# Data for FA/SP/SU17 -> FA/SP/SU22\n",
    "for i in range(17, 23):\n",
    "    fetch_summary_sheet(f'fa{i}')\n",
    "    fetch_summary_sheet(f'sp{i}')\n",
    "    fetch_summary_sheet(f'su{i}')\n",
    "    sleep(5)\n",
    "\n",
    "# Data for SP23 (Most Recent)\n",
    "fetch_summary_sheet('sp23')"
   ]
  },
  {
   "cell_type": "code",
   "execution_count": null,
   "metadata": {},
   "outputs": [],
   "source": []
  }
 ],
 "metadata": {
  "kernelspec": {
   "display_name": "Python 3",
   "language": "python",
   "name": "python3"
  },
  "language_info": {
   "codemirror_mode": {
    "name": "ipython",
    "version": 3
   },
   "file_extension": ".py",
   "mimetype": "text/x-python",
   "name": "python",
   "nbconvert_exporter": "python",
   "pygments_lexer": "ipython3",
   "version": "3.10.9"
  },
  "orig_nbformat": 4
 },
 "nbformat": 4,
 "nbformat_minor": 2
}
